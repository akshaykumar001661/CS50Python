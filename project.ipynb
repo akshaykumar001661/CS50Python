{
 "cells": [
  {
   "cell_type": "code",
   "execution_count": null,
   "id": "6575757d",
   "metadata": {},
   "outputs": [],
   "source": [
    "import random\n",
    "\n",
    "def generate_password(length):\n",
    "    characters = 'abcdefghijklmnopqrstuvwxyzABCDEFGHIJKLMNOPQRSTUVWXYZ1234567890!@#$%^&*()_+'\n",
    "    password = ''.join(random.choice(characters) for i in range(length))\n",
    "    return password\n",
    "\n",
    "def save_password():\n",
    "    website = input(\"Enter website name: \")\n",
    "    password = input(\"Enter password: \")\n",
    "    with open('passwords.txt', 'a') as f:\n",
    "        f.write(website + ' : ' + password + '\\n')\n",
    "    print(\"Password saved successfully!\")\n",
    "\n",
    "def retrieve_password():\n",
    "    website = input(\"Enter website name: \")\n",
    "    with open('passwords.txt', 'r') as f:\n",
    "        for line in f:\n",
    "            if website in line:\n",
    "                password = line.split(' : ')[1].strip()\n",
    "                print(f\"The password for {website} is {password}\")\n",
    "                return\n",
    "        print(f\"No password found for {website}\")\n",
    "\n",
    "def main():\n",
    "    print(\"Welcome to Password Manager!\")\n",
    "    while True:\n",
    "        print(\"1. Generate Password\\n2. Save Password\\n3. Retrieve Password\\n4. Quit\")\n",
    "        choice = input(\"Enter your choice: \")\n",
    "        if choice == '1':\n",
    "            length = int(input(\"Enter password length: \"))\n",
    "            password = generate_password(length)\n",
    "            print(f\"Generated password: {password}\")\n",
    "        elif choice == '2':\n",
    "            save_password()\n",
    "        elif choice == '3':\n",
    "            retrieve_password()\n",
    "        elif choice == '4':\n",
    "            print(\"Goodbye!\")\n",
    "            break\n",
    "        else:\n",
    "            print(\"Invalid choice. Try again.\")\n",
    "\n",
    "if __name__ == '__main__':\n",
    "    main()"
   ]
  }
 ],
 "metadata": {
  "kernelspec": {
   "display_name": "Python 3 (ipykernel)",
   "language": "python",
   "name": "python3"
  },
  "language_info": {
   "codemirror_mode": {
    "name": "ipython",
    "version": 3
   },
   "file_extension": ".py",
   "mimetype": "text/x-python",
   "name": "python",
   "nbconvert_exporter": "python",
   "pygments_lexer": "ipython3",
   "version": "3.9.13"
  }
 },
 "nbformat": 4,
 "nbformat_minor": 5
}
