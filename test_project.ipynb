{
 "cells": [
  {
   "cell_type": "code",
   "execution_count": null,
   "id": "9654f86c",
   "metadata": {},
   "outputs": [],
   "source": [
    "from project import generate_password, save_password, retrieve_password\n",
    "\n",
    "def test_generate_password():\n",
    "    assert len(generate_password(10)) == 10\n",
    "    assert len(generate_password(20)) == 20\n",
    "    assert len(generate_password(30)) == 30\n",
    "\n",
    "def test_save_password():\n",
    "    # Add a sample password to the text file\n",
    "    with open('passwords.txt', 'w') as f:\n",
    "        f.write('example.com : Password123\\n')\n",
    "    save_password()\n",
    "    # Check if the password is added to the text file\n",
    "    with open('passwords.txt', 'r') as f:\n",
    "        assert 'example.com : Password123\\n' in f.readlines()\n",
    "\n",
    "def test_retrieve_password():\n",
    "    # Check if the function returns the correct password\n",
    "    assert retrieve_password('example.com') == 'Password123'\n",
    "    # Check if the function handles non-existent passwords\n",
    "    assert retrieve_password('notexist.com') == None"
   ]
  }
 ],
 "metadata": {
  "kernelspec": {
   "display_name": "Python 3 (ipykernel)",
   "language": "python",
   "name": "python3"
  },
  "language_info": {
   "codemirror_mode": {
    "name": "ipython",
    "version": 3
   },
   "file_extension": ".py",
   "mimetype": "text/x-python",
   "name": "python",
   "nbconvert_exporter": "python",
   "pygments_lexer": "ipython3",
   "version": "3.9.13"
  }
 },
 "nbformat": 4,
 "nbformat_minor": 5
}
